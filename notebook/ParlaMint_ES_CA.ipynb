{
  "nbformat": 4,
  "nbformat_minor": 0,
  "metadata": {
    "colab": {
      "provenance": [],
      "collapsed_sections": [],
      "authorship_tag": "ABX9TyPRnYeyf2gLANZIuUHC/8yg",
      "include_colab_link": true
    },
    "kernelspec": {
      "name": "python3",
      "display_name": "Python 3"
    },
    "language_info": {
      "name": "python"
    },
    "accelerator": "GPU"
  },
  "cells": [
    {
      "cell_type": "markdown",
      "metadata": {
        "id": "view-in-github",
        "colab_type": "text"
      },
      "source": [
        "<a href=\"https://colab.research.google.com/github/IULATERM-TRL-UPF/ParlaMint_ES-CT/blob/main/notebook/ParlaMint_ES_CA.ipynb\" target=\"_parent\"><img src=\"https://colab.research.google.com/assets/colab-badge.svg\" alt=\"Open In Colab\"/></a>"
      ]
    },
    {
      "cell_type": "markdown",
      "source": [
        "#Linguistic annotation of Catalan Parliamentary speeches\n",
        "The Parla-CLARIN proposal involves the linguistic annotation of the parliamentary transcriptions. In this notebook, we present a way to accomplish this annotation given a corpus in XML format.\n",
        "\n",
        "The Catalan Parliament has tow official languages: catalan and spanish. A complete linguistic annotation should include:\n",
        "1. Tokenization and sentence segmentation\n",
        "2. Lemmatization and UD morphological features\n",
        "3. UD syntactic annotations\n",
        "4. NER marking (PER, LOC, ORG, MISC)\n",
        "\n",
        "\n",
        "We conduct the linguistic annotation using Spacy, which offers the feautures listed above, although, it does not identify contractions like \"del\" or \"al\".  This issue may impply that Spacy is not the best option for this task. Nevertheless, we expect that the guidelines exposed here can be used with another NLP library."
      ],
      "metadata": {
        "id": "_jBCuHY2YQyL"
      }
    },
    {
      "cell_type": "markdown",
      "source": [
        "##Main Libraries\n",
        "\n",
        "The main libraries applied are:\n",
        "* Spacy for the linguistic annotation, and Spacy_conll to format the result.\n",
        "* xml.etree.ElementTree to parse the XML source file and to create the new XML tree."
      ],
      "metadata": {
        "id": "vwXwcFn_YU7a"
      }
    },
    {
      "cell_type": "markdown",
      "source": [
        "###Installation"
      ],
      "metadata": {
        "id": "SYOe9Ji0YazJ"
      }
    },
    {
      "cell_type": "code",
      "execution_count": 1,
      "metadata": {
        "id": "b5TqIbFeYFVl"
      },
      "outputs": [],
      "source": [
        "%%capture\n",
        "!git clone https://github.com/IULATERM-TRL-UPF/ParlaMint_ES-CT\n",
        "!python -m pip install -r ParlaMint_ES-CT/requirements.txt\n",
        "!python -m spacy download ca_core_news_trf\n",
        "!python -m spacy download es_core_news_sm"
      ]
    },
    {
      "cell_type": "markdown",
      "source": [
        "##Testing\n",
        "\n",
        "In this section you will be able to verify if the docx files can be processed or if they have any error of origin."
      ],
      "metadata": {
        "id": "CtQ_Euw0K6Z7"
      }
    },
    {
      "cell_type": "code",
      "source": [
        "#@title ## Docx Files Folder\n",
        "\n",
        "#@markdown ### Put the path of the folder with the docx files or in case run the path that is shown there\n",
        "\n",
        "#@markdown ---\n",
        "#@markdown ### Enter a file path:\n",
        "docx_file_test_path = \"ParlaMint_ES-CT/docx_files_test/\" #@param {type:\"string\"}\n",
        "#@markdown ---"
      ],
      "metadata": {
        "id": "s9DX8JiYLHW8"
      },
      "execution_count": null,
      "outputs": []
    },
    {
      "cell_type": "code",
      "source": [
        "#@title ## Parameter Files Folder\n",
        "\n",
        "#@markdown ### Put the path of the folder where the members excel files are saved or in case run the path that is shown there\n",
        "\n",
        "#@markdown ---\n",
        "#@markdown ### Enter a file path:\n",
        "parameters_file_path = \"ParlaMint_ES-CT/parameters/\" #@param {type:\"string\"}\n",
        "#@markdown ---"
      ],
      "metadata": {
        "id": "7iVoGfaSLWjo"
      },
      "execution_count": null,
      "outputs": []
    },
    {
      "cell_type": "code",
      "source": [
        "!python ParlaMint_ES-CT/src/main.py -t $docx_file_test_path -p $parameters_file_path"
      ],
      "metadata": {
        "colab": {
          "base_uri": "https://localhost:8080/"
        },
        "id": "EP1qqtcvLO-p",
        "outputId": "84b21980-ae16-4bf5-b99d-9fc8df99d276"
      },
      "execution_count": null,
      "outputs": [
        {
          "output_type": "stream",
          "name": "stdout",
          "text": [
            "/content/ParlaMint_ES-CT/src\n",
            "Testing\n",
            "Loading DOCX files\n",
            "Files to process:  99\n",
            "Loading parameter files\n",
            "Processing\n",
            "100% 99/99 [01:56<00:00,  1.17s/it]\n",
            "Los archivos que no se pudieron procesar están en el folder 'ERRORS'\n",
            "Done\n"
          ]
        }
      ]
    },
    {
      "cell_type": "markdown",
      "source": [
        "##Run Scripts\n",
        "\n",
        "In this section you will test the script to generate the TEI file from the docx file. The TEI file contains the linguistic annotations of the texts of the docx file according to the requirements."
      ],
      "metadata": {
        "id": "8Z-X9N4HUijN"
      }
    },
    {
      "cell_type": "code",
      "source": [
        "#@title ## Docx Files Folder\n",
        "\n",
        "#@markdown ### Put the path of the folder with the docx files or in case run the path that is shown there\n",
        "\n",
        "#@markdown ---\n",
        "#@markdown ### Enter a file path:\n",
        "docx_file_path = \"ParlaMint_ES-CT/test/\" #@param {type:\"string\"}\n",
        "#@markdown ---"
      ],
      "metadata": {
        "id": "kTb5RztxS6ft"
      },
      "execution_count": 2,
      "outputs": []
    },
    {
      "cell_type": "code",
      "source": [
        "#@title ## ANA Files Folder\n",
        "\n",
        "#@markdown ### Put the path of the folder where the TEI files are saved or in case run the path that is shown there\n",
        "\n",
        "#@markdown ---\n",
        "#@markdown ### Enter a file path:\n",
        "tei_ana_file_path = \"ParlaMint_ES-CT/ana_files/\" #@param {type:\"string\"}\n",
        "#@markdown ---"
      ],
      "metadata": {
        "id": "Maf75-pDUQEH"
      },
      "execution_count": 3,
      "outputs": []
    },
    {
      "cell_type": "code",
      "source": [
        "#@title ## Parameter Files Folder\n",
        "\n",
        "#@markdown ### Put the path of the folder where the members excel files are saved or in case run the path that is shown there\n",
        "\n",
        "#@markdown ---\n",
        "#@markdown ### Enter a file path:\n",
        "parameters_file_path = \"ParlaMint_ES-CT/parameters/\" #@param {type:\"string\"}\n",
        "#@markdown ---"
      ],
      "metadata": {
        "id": "6NQYnYEohrHz"
      },
      "execution_count": 4,
      "outputs": []
    },
    {
      "cell_type": "code",
      "source": [
        "!python ParlaMint_ES-CT/src/main.py -i $docx_file_path  -o $tei_ana_file_path -p $parameters_file_path"
      ],
      "metadata": {
        "colab": {
          "base_uri": "https://localhost:8080/"
        },
        "id": "nIWF9ShHUp-4",
        "outputId": "23bd4f64-1107-4e8c-db2f-e8fce51f32b9"
      },
      "execution_count": 5,
      "outputs": [
        {
          "output_type": "stream",
          "name": "stdout",
          "text": [
            "/content/ParlaMint_ES-CT/src\n",
            "Loading DOCX files\n",
            "Files to process:  1\n",
            "Loading parameter files\n",
            "Processing\n",
            "  0% 0/1 [00:00<?, ?it/s]File PCAT-0101-17012018.docx convert to xml and saved in /content/ParlaMint_ES-CT/xml_files/ParlaMint-ES-CT_2018-01-17-0101.xml\n",
            "File ParlaMint-ES-CT_2018-01-17-0101.xml convert to xml and saved in ParlaMint_ES-CT/ana_files/ParlaMint-ES-CT_2018-01-17-0101.ana.xml\n",
            "100% 1/1 [09:26<00:00, 566.95s/it]\n",
            "Done\n"
          ]
        }
      ]
    }
  ]
}